{
 "cells": [
  {
   "cell_type": "markdown",
   "metadata": {},
   "source": [
    "# Demand Curve step by step\n",
    "\n",
    "## Let's start with a survey in Google Forms about willingness to pay for four goods.  \n",
    "\n",
    "We will create a few demand curves based on the class. Start by filling in the form at (also linked on data88e.org/fa25 or in Slide Deck)\n",
    " - https://forms.gle/vVwcy3mR5nt4br4W7   \n",
    " "
   ]
  },
  {
   "cell_type": "code",
   "execution_count": null,
   "metadata": {},
   "outputs": [],
   "source": [
    "import pandas as pd\n",
    "from datascience import *\n",
    "import numpy as np\n",
    "%matplotlib inline"
   ]
  },
  {
   "cell_type": "markdown",
   "metadata": {},
   "source": [
    "## Find the Sheet ID in the URL of the Google Sheet!\n",
    "\n",
    "*Behind every Google Form there is a Google Sheet*\n",
    "\n",
    "\n",
    "Take a look at the data in the spreadsheet \n",
    "\n",
    "\n",
    "https://docs.google.com/spreadsheets/d/1HcRJzKtVfriF3cUpBgixYTsQC7--dhFq8hEJFt7l1BY/edit?usp=sharing"
   ]
  },
  {
   "cell_type": "code",
   "execution_count": null,
   "metadata": {},
   "outputs": [],
   "source": [
    "sheet_id = \"1HcRJzKtVfriF3cUpBgixYTsQC7--dhFq8hEJFt7l1BY\"\n",
    "sheet_name = \"Form1\"\n",
    "url = f\"https://docs.google.com/spreadsheets/d/{sheet_id}/gviz/tq?tqx=out:csv&sheet={sheet_name}\""
   ]
  },
  {
   "cell_type": "code",
   "execution_count": null,
   "metadata": {},
   "outputs": [],
   "source": [
    "# Last years data for comparison\n",
    "#sheet_id = \"1jp-XrFPk0eUNDUVWGa7Rmw9b0P8_jobTG0oLpvcHB9s\"\n"
   ]
  },
  {
   "cell_type": "markdown",
   "metadata": {},
   "source": [
    "Read it into a datascience table"
   ]
  },
  {
   "cell_type": "code",
   "execution_count": null,
   "metadata": {},
   "outputs": [],
   "source": [
    "demand_table = Table.read_table(url)\n",
    "demand_table"
   ]
  },
  {
   "cell_type": "code",
   "execution_count": null,
   "metadata": {},
   "outputs": [],
   "source": [
    "demand_table.ihist(\"Coffee\",bins=7)"
   ]
  },
  {
   "cell_type": "code",
   "execution_count": null,
   "metadata": {},
   "outputs": [],
   "source": [
    "demand_table.ihist(\"Burrito\",bins=7)"
   ]
  },
  {
   "cell_type": "markdown",
   "metadata": {},
   "source": [
    "## Gonna roll with Burrito for this example\n",
    "\n",
    "Step 1 - Lets pull out just Burritos \n",
    "\n",
    "This is a table with just Burrito prices that people are willing to pay ( bids)"
   ]
  },
  {
   "cell_type": "code",
   "execution_count": null,
   "metadata": {},
   "outputs": [],
   "source": [
    "Burrito = demand_table.select(\"Burrito\")\n",
    "Burrito"
   ]
  },
  {
   "cell_type": "markdown",
   "metadata": {},
   "source": [
    "Step 2 - Let's count the number at each price\n",
    "\n",
    "And sort the table so that it is descending from high to low price\n"
   ]
  },
  {
   "cell_type": "code",
   "execution_count": null,
   "metadata": {},
   "outputs": [],
   "source": [
    "# count the number at each price\n",
    "Burrito_counts = demand_table.group(\"Burrito\")\n",
    "Burrito_counts = Burrito_counts.sort('Burrito', descending=True)\n",
    "\n",
    "Burrito_counts"
   ]
  },
  {
   "cell_type": "markdown",
   "metadata": {},
   "source": [
    "Step 3 - Let's pull out those counts \n"
   ]
  },
  {
   "cell_type": "code",
   "execution_count": null,
   "metadata": {},
   "outputs": [],
   "source": [
    "counts = Burrito_counts.column(\"count\")\n",
    "print(counts) "
   ]
  },
  {
   "cell_type": "markdown",
   "metadata": {},
   "source": [
    "Step 4 - use a numpy command called cumulative sum to get the number of people who will buy at each price\n"
   ]
  },
  {
   "cell_type": "code",
   "execution_count": null,
   "metadata": {},
   "outputs": [],
   "source": [
    "cumulative_counts = counts.cumsum()\n",
    "cumulative_counts"
   ]
  },
  {
   "cell_type": "markdown",
   "metadata": {},
   "source": [
    "Step 5 - make an array of the prices of the burritos in descending order\n"
   ]
  },
  {
   "cell_type": "code",
   "execution_count": null,
   "metadata": {},
   "outputs": [],
   "source": [
    "prices = make_array(20,17.5,15,12.5,10,7.5,5,2.5)\n",
    "prices"
   ]
  },
  {
   "cell_type": "markdown",
   "metadata": {},
   "source": [
    "Step 6 -  make a table with the prices and the cumulative counts\n"
   ]
  },
  {
   "cell_type": "code",
   "execution_count": null,
   "metadata": {},
   "outputs": [],
   "source": [
    "demand_curve = Table().with_columns(\"Price\", prices, \"Cumulative Count\", cumulative_counts)\n",
    "demand_curve"
   ]
  },
  {
   "cell_type": "code",
   "execution_count": null,
   "metadata": {},
   "outputs": [],
   "source": [
    "demand_curve.iscatter(\"Cumulative Count\",\"Price\")\n"
   ]
  },
  {
   "cell_type": "code",
   "execution_count": null,
   "metadata": {},
   "outputs": [],
   "source": [
    "demand_curve.iscatter(\"Cumulative Count\",\"Price\", fit_line=True)\n"
   ]
  },
  {
   "cell_type": "code",
   "execution_count": null,
   "metadata": {},
   "outputs": [],
   "source": [
    "# fit a line to the data using numpy        \n",
    "m, b = np.polyfit(cumulative_counts,prices,  1)\n",
    "print(m, b)"
   ]
  },
  {
   "cell_type": "code",
   "execution_count": null,
   "metadata": {},
   "outputs": [],
   "source": [
    "# add a new column to the table with the log of price\n",
    "demand_curve = demand_curve.with_column(\"Log Price\", np.log(prices))\n",
    "demand_curve"
   ]
  },
  {
   "cell_type": "code",
   "execution_count": null,
   "metadata": {},
   "outputs": [],
   "source": [
    "#plot Q vs Log Price \n",
    "demand_curve.iscatter(\"Cumulative Count\",\"Log Price\", fit_line=True)\n"
   ]
  },
  {
   "cell_type": "markdown",
   "metadata": {},
   "source": [
    "## New Section on Elasticities along the Demand Curve \n"
   ]
  },
  {
   "cell_type": "code",
   "execution_count": null,
   "metadata": {},
   "outputs": [],
   "source": [
    "demand_curve = demand_curve.relabel(\"Cumulative Count\", \"Quantity\")\n",
    "demand_curve"
   ]
  },
  {
   "cell_type": "markdown",
   "metadata": {},
   "source": [
    "When we calculate elasticity, we need to compare how quantity changes as price changes. But our demand_curve table lists each price–quantity pair only once. To calculate a change, we need to line up each point with its neighbor on the demand curve:\n",
    "\t•\tThe first copy of the table gives us the “starting” price and quantity ($P_1, Q_1$).\n",
    "\t•\tA shifted copy of the table (dropping the first row) gives us the “next” price and quantity ($P_2, Q_2$).\n",
    "\n",
    "By putting these side by side, we can compute the differences:\n",
    "\t•\t$\\Delta Q = Q_2 - Q_1$\n",
    "\t•\t$\\Delta P = P_2 - P_1$\n",
    "\n",
    "and then use the midpoint formula to find the elasticity for that segment of the demand curve."
   ]
  },
  {
   "cell_type": "markdown",
   "metadata": {},
   "source": [
    "To calculate elasticity, we’ll work with arrays from our original demand_curve table. First, we take out the arrays for prices and quantities. Then, one by one, we use those arrays to create new arrays: differences ($\\Delta Q$, $\\Delta P$), midpoints ($\\bar Q$, $\\bar P$), and the elasticity formulas. Finally, we stack all these arrays back together into a new elasticities table so we can see each segment of the demand curve with its calculated elasticity."
   ]
  },
  {
   "cell_type": "code",
   "execution_count": null,
   "metadata": {},
   "outputs": [],
   "source": [
    "# Make numpy arrays from the columns\n",
    "P = demand_curve.column(\"Price\")\n",
    "Q = demand_curve.column(\"Quantity\")\n",
    "Q"
   ]
  },
  {
   "cell_type": "code",
   "execution_count": null,
   "metadata": {},
   "outputs": [],
   "source": [
    "# Build shifted columns so we can line up pairs\n",
    "# Take all rows except last\n",
    "first_points = demand_curve.take(np.arange(demand_curve.num_rows - 1))\n",
    "# Take all rows except first\n",
    "second_points = demand_curve.take(np.arange(1, demand_curve.num_rows))\n",
    "# Now we have a second table with the \"Second Points   \"\n",
    "second_points\n",
    "    "
   ]
  },
  {
   "cell_type": "markdown",
   "metadata": {},
   "source": [
    "### We can make 4 arrays from which we can calculate the elasticities "
   ]
  },
  {
   "cell_type": "code",
   "execution_count": null,
   "metadata": {},
   "outputs": [],
   "source": [
    "# Make arrays from the columns of the two tables\n",
    "P1 = first_points.column(\"Price\")\n",
    "P2 = second_points.column(\"Price\")\n",
    "Q1 = first_points.column(\"Quantity\")\n",
    "Q2 = second_points.column(\"Quantity\")\n",
    "Q2"
   ]
  },
  {
   "cell_type": "markdown",
   "metadata": {},
   "source": [
    "### We can make the differences and the average "
   ]
  },
  {
   "cell_type": "code",
   "execution_count": null,
   "metadata": {},
   "outputs": [],
   "source": [
    "dQ = Q2 - Q1\n",
    "Q_bar = (Q1 + Q2) / 2\n",
    "dP = P2 - P1\n",
    "P_bar = (P1 + P2) / 2\n",
    "# print them\n",
    "dQ, Q_bar, dP, P_bar"
   ]
  },
  {
   "cell_type": "markdown",
   "metadata": {},
   "source": [
    "Reminder: the midpoint formula for elasticity\n",
    "\n",
    "Elasticity measures the percent change in quantity relative to the percent change in price. To make sure the result doesn’t depend on which point we call “first” or “second,” we use the midpoint formula:\n",
    "$$\n",
    "E_d \\;=\\; \\frac{\\%\\Delta Q}{\\%\\Delta P}\n",
    "\\;=\\; \\frac{\\dfrac{Q_2 - Q_1}{\\tfrac{Q_1 + Q_2}{2}}}{\\dfrac{P_2 - P_1}{\\tfrac{P_1 + P_2}{2}}}\n",
    "$$\n",
    "\n",
    "This formula uses the average of the two quantities ($\\tfrac{Q_1+Q_2}{2}$) and the average of the two prices ($\\tfrac{P_1+P_2}{2}$) as the bases for the percent changes.\n",
    "\n",
    "That way, whether we move from $P_1$ to $P_2$ or from $P_2$ to $P_1$, the elasticity value comes out the same."
   ]
  },
  {
   "cell_type": "code",
   "execution_count": null,
   "metadata": {},
   "outputs": [],
   "source": [
    "pct_dQ = dQ / Q_bar\n",
    "pct_dP = dP / P_bar\n",
    "arc_E = pct_dQ / pct_dP\n",
    "arc_E"
   ]
  },
  {
   "cell_type": "markdown",
   "metadata": {},
   "source": [
    "Alternatively we can use the *log–difference elasticity formula* \n",
    "\n",
    "The definition of price elasticity of demand is:\n",
    "$$\n",
    "E_d = \\frac{\\%\\Delta Q}{\\%\\Delta P}\n",
    "$$\n",
    "Using calculus, the “point” elasticity can be written as:\n",
    "$$\n",
    "E_d = \\frac{dQ/Q}{dP/P} = \\frac{d\\ln Q}{d\\ln P}.\n",
    "$$\n",
    "That means elasticity is the slope of $\\ln(Q)$ with respect to $\\ln(P)$.\n",
    "\n",
    "When we only have data points (instead of continuous functions), we approximate the derivative with differences:\n",
    "$$\n",
    "E_d \\;\\approx\\; \\frac{\\Delta \\ln Q}{\\Delta \\ln P}\n",
    "= \\frac{\\ln(Q_2) - \\ln(Q_1)}{\\ln(P_2) - \\ln(P_1)}.\n",
    "$$\n",
    "This is exactly the log_E formula in our code. It’s another way to compute elasticity between two points, and it usually gives very similar results to the midpoint (arc) formula."
   ]
  },
  {
   "cell_type": "code",
   "execution_count": null,
   "metadata": {},
   "outputs": [],
   "source": [
    "log_E = (np.log(Q2) - np.log(Q1)) / (np.log(P2) - np.log(P1)) \n",
    "log_E "
   ]
  },
  {
   "cell_type": "markdown",
   "metadata": {},
   "source": [
    "### Let's make a new table with what we have "
   ]
  },
  {
   "cell_type": "code",
   "execution_count": null,
   "metadata": {},
   "outputs": [],
   "source": [
    "elasticities = Table().with_columns(\n",
    "    \"P1\", P1,\n",
    "    \"P2\", P2,\n",
    "    \"Q1\", Q1,\n",
    "    \"Q2\", Q2,\n",
    "    \"Midpoint Price\", P_bar,\n",
    "    \"Midpoint Quantity\", Q_bar,\n",
    "    \"Arc Elasticity\", np.round(arc_E, 3),\n",
    "    \"LogDiff Elasticity\", np.round(log_E, 3)\n",
    ")"
   ]
  },
  {
   "cell_type": "code",
   "execution_count": null,
   "metadata": {},
   "outputs": [],
   "source": [
    "elasticities.show()\n"
   ]
  },
  {
   "cell_type": "markdown",
   "metadata": {},
   "source": [
    "### Visualizing elasticity\n",
    "\n",
    "Once we’ve calculated elasticity values for each segment, it’s helpful to plot them against the midpoint price. This shows how demand tends to be more elastic at high prices (large negative elasticity) and more inelastic at low prices (elasticity close to 0).\n",
    "\n",
    "We’ll add a horizontal line at $-1$ to mark the cutoff between elastic and inelastic demand."
   ]
  },
  {
   "cell_type": "code",
   "execution_count": null,
   "metadata": {},
   "outputs": [],
   "source": [
    "# Plot elasticity vs midpoint price\n",
    "elasticities.iscatter(\"Midpoint Price\", \"Arc Elasticity\")\n",
    "\n"
   ]
  },
  {
   "cell_type": "code",
   "execution_count": null,
   "metadata": {},
   "outputs": [],
   "source": [
    "elasticities.iscatter(\"Midpoint Price\", \"Arc Elasticity\", fit_line=True)"
   ]
  },
  {
   "cell_type": "code",
   "execution_count": null,
   "metadata": {},
   "outputs": [],
   "source": []
  },
  {
   "cell_type": "code",
   "execution_count": null,
   "metadata": {},
   "outputs": [],
   "source": []
  },
  {
   "cell_type": "code",
   "execution_count": null,
   "metadata": {},
   "outputs": [],
   "source": []
  },
  {
   "cell_type": "code",
   "execution_count": null,
   "metadata": {},
   "outputs": [],
   "source": []
  }
 ],
 "metadata": {
  "kernelspec": {
   "display_name": "base",
   "language": "python",
   "name": "python3"
  },
  "language_info": {
   "codemirror_mode": {
    "name": "ipython",
    "version": 3
   },
   "file_extension": ".py",
   "mimetype": "text/x-python",
   "name": "python",
   "nbconvert_exporter": "python",
   "pygments_lexer": "ipython3",
   "version": "3.12.8"
  }
 },
 "nbformat": 4,
 "nbformat_minor": 2
}
