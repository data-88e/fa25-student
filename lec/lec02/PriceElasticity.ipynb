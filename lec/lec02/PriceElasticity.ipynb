{
 "cells": [
  {
   "cell_type": "markdown",
   "id": "c86c7a7e-9146-4a6a-9034-e9a8eb977028",
   "metadata": {},
   "source": [
    "## Price Elasticity of Demand"
   ]
  },
  {
   "cell_type": "code",
   "execution_count": null,
   "id": "59b21439-82d1-4a54-952b-cee09fdd51a9",
   "metadata": {},
   "outputs": [],
   "source": [
    "def calculate_ped(initial_quantity, new_quantity, initial_price, new_price):\n",
    "    # Calculate the percentage change in quantity demanded\n",
    "    percent_change_in_quantity = ((new_quantity - initial_quantity) / initial_quantity) * 100\n",
    "    \n",
    "    # Calculate the percentage change in price\n",
    "    percent_change_in_price = ((new_price - initial_price) / initial_price) * 100\n",
    "    \n",
    "    # Calculate the price elasticity of demand (PED)\n",
    "    ped = percent_change_in_quantity / percent_change_in_price\n",
    "    \n",
    "    return ped\n",
    "\n",
    "\n"
   ]
  },
  {
   "cell_type": "markdown",
   "id": "b8ad300f-ed1b-43c0-bd56-f29bc74cfc36",
   "metadata": {},
   "source": [
    "## Let's start with the Textbook Example\n",
    "https://data88e.org/textbook/content/01-demand/04-elasticity.html\n",
    "\n",
    "![](PED-txt.png)"
   ]
  },
  {
   "cell_type": "markdown",
   "id": "fa580c43-87d7-41ba-87e2-1b1d6fa79374",
   "metadata": {},
   "source": [
    "### Example 1"
   ]
  },
  {
   "cell_type": "code",
   "execution_count": null,
   "id": "6ec4fcaf-9872-4257-83f2-94ba03529a8e",
   "metadata": {},
   "outputs": [],
   "source": [
    "\n",
    "initial_quantity = 5\n",
    "new_quantity = 4\n",
    "initial_price = 5\n",
    "new_price = 6\n",
    "\n",
    "ped = calculate_ped(initial_quantity, new_quantity, initial_price, new_price)\n",
    "print(f\"The price elasticity of demand is {ped:.2f}\")"
   ]
  },
  {
   "cell_type": "markdown",
   "id": "4eda8703-0620-4f84-8a7a-94ae52ee2673",
   "metadata": {},
   "source": [
    "### Example 2"
   ]
  },
  {
   "cell_type": "code",
   "execution_count": null,
   "id": "413d6923-e80d-48c7-8890-6f37baade12e",
   "metadata": {},
   "outputs": [],
   "source": [
    "initial_quantity = 4\n",
    "new_quantity = 5\n",
    "initial_price = 6\n",
    "new_price = 5\n",
    "\n",
    "ped = calculate_ped(initial_quantity, new_quantity, initial_price, new_price)\n",
    "print(f\"The price elasticity of demand is {ped:.2f}\")"
   ]
  },
  {
   "cell_type": "markdown",
   "id": "3c2582f7-a5d2-4256-8e08-8480b8373eb2",
   "metadata": {},
   "source": [
    "## How about the point slope formula for eslasticity of demand?\n",
    "\n",
    "Slope = -1 along the line "
   ]
  },
  {
   "cell_type": "code",
   "execution_count": null,
   "id": "7dc63cdd",
   "metadata": {},
   "outputs": [],
   "source": [
    "slope=-1"
   ]
  },
  {
   "cell_type": "markdown",
   "id": "c99021d6",
   "metadata": {},
   "source": [
    "### Example 1  - point slope"
   ]
  },
  {
   "cell_type": "code",
   "execution_count": null,
   "id": "517296a5",
   "metadata": {},
   "outputs": [],
   "source": [
    "initial_quantity = 5\n",
    "initial_price = 5\n",
    "ped = slope * (initial_price/initial_quantity)\n",
    "print(f\"The price elasticity of demand is {ped:.2f}\")"
   ]
  },
  {
   "cell_type": "markdown",
   "id": "46ad74f7",
   "metadata": {},
   "source": [
    "### Example 2  - point slope"
   ]
  },
  {
   "cell_type": "code",
   "execution_count": null,
   "id": "96d893cb",
   "metadata": {},
   "outputs": [],
   "source": [
    "initial_quantity = 4\n",
    "initial_price = 6\n",
    "ped = slope * (initial_price/initial_quantity)\n",
    "print(f\"The price elasticity of demand is {ped:.2f}\")"
   ]
  },
  {
   "cell_type": "code",
   "execution_count": null,
   "id": "55488748",
   "metadata": {},
   "outputs": [],
   "source": []
  }
 ],
 "metadata": {
  "kernelspec": {
   "display_name": "Python 3 (ipykernel)",
   "language": "python",
   "name": "python3"
  },
  "language_info": {
   "codemirror_mode": {
    "name": "ipython",
    "version": 3
   },
   "file_extension": ".py",
   "mimetype": "text/x-python",
   "name": "python",
   "nbconvert_exporter": "python",
   "pygments_lexer": "ipython3",
   "version": "3.8.15"
  }
 },
 "nbformat": 4,
 "nbformat_minor": 5
}
