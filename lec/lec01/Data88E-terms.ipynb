{
 "cells": [
  {
   "cell_type": "code",
   "execution_count": null,
   "id": "82109852-ef5b-4543-8c02-8fecb202a65f",
   "metadata": {},
   "outputs": [],
   "source": [
    "from datascience import *"
   ]
  },
  {
   "cell_type": "code",
   "execution_count": null,
   "id": "e86b97c2-5da1-4d2c-98b3-84893c1942ce",
   "metadata": {},
   "outputs": [],
   "source": [
    "data = Table.read_table('data-88e-2025-rosterAug27.csv')"
   ]
  },
  {
   "cell_type": "code",
   "execution_count": null,
   "id": "0f9c2395-5758-40ba-9a08-ecedb4bdfd75",
   "metadata": {},
   "outputs": [],
   "source": [
    "terms = data.group('Terms in Attendance')"
   ]
  },
  {
   "cell_type": "code",
   "execution_count": null,
   "id": "daaa618a-06aa-491c-ab64-a80e42507121",
   "metadata": {},
   "outputs": [],
   "source": [
    "terms.show()"
   ]
  },
  {
   "cell_type": "code",
   "execution_count": null,
   "id": "1b07c0c6-04da-45ee-9f3a-3afa774c10dc",
   "metadata": {},
   "outputs": [],
   "source": [
    "Majors = data.group('Majors')"
   ]
  },
  {
   "cell_type": "code",
   "execution_count": null,
   "id": "52b19077-7061-40de-9cf2-078aa2a2dbde",
   "metadata": {},
   "outputs": [],
   "source": [
    "Majors.sort(\"count\").show(descending=\"true\")"
   ]
  },
  {
   "cell_type": "code",
   "execution_count": null,
   "id": "4f8fcbbf-7080-45c0-ae7e-f99292e3c842",
   "metadata": {},
   "outputs": [],
   "source": [
    "Majors.sort(\"count\", descending=True).show()"
   ]
  },
  {
   "cell_type": "code",
   "execution_count": null,
   "id": "323593d2-5dc5-464a-9f7b-181c7ad00b89",
   "metadata": {},
   "outputs": [],
   "source": [
    "Majors.where(\"Majors\", are.equal_to(\"Economics BA\"))"
   ]
  },
  {
   "cell_type": "code",
   "execution_count": null,
   "id": "245769d8-2743-4ea4-a7f9-d627e128f84b",
   "metadata": {},
   "outputs": [],
   "source": []
  }
 ],
 "metadata": {
  "kernelspec": {
   "display_name": "Python 3 (ipykernel)",
   "language": "python",
   "name": "python3"
  },
  "language_info": {
   "codemirror_mode": {
    "name": "ipython",
    "version": 3
   },
   "file_extension": ".py",
   "mimetype": "text/x-python",
   "name": "python",
   "nbconvert_exporter": "python",
   "pygments_lexer": "ipython3",
   "version": "3.11.13"
  }
 },
 "nbformat": 4,
 "nbformat_minor": 5
}
