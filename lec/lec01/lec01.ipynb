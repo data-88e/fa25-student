{
 "cells": [
  {
   "cell_type": "markdown",
   "metadata": {},
   "source": [
    "<table style=\"width: 100%;\" id=\"nb-header\">\n",
    "    <tr style=\"background-color: transparent;\"><td>\n",
    "        <img src=\"https://data-88e.github.io/assets/images/blue_text.png\" width=\"250px\" style=\"margin-left: 0;\" />\n",
    "    </td><td>\n",
    "        <p style=\"text-align: right; font-size: 10pt;\"><strong>Economic Models</strong>, Fall 24 <br>\n",
    "            Dr. Eric Van Dusen <br>\n",
    "            Rohan Jha, Matt Yep, Alan Liang<br>\n",
    "        <br>\n",
    "</table>"
   ]
  },
  {
   "cell_type": "markdown",
   "metadata": {},
   "source": [
    "# The Financial Benefits of Your Major"
   ]
  },
  {
   "cell_type": "code",
   "execution_count": null,
   "metadata": {
    "cell_id": "00000-7163cd5e-cd91-4ace-b426-c74e864e71ea",
    "deepnote_cell_type": "code",
    "deepnote_to_be_reexecuted": false,
    "execution_millis": 22413,
    "execution_start": 1609789726401,
    "output_cleared": false,
    "source_hash": "78af3cb5",
    "tags": []
   },
   "outputs": [],
   "source": [
    "#%pip install ipywidgets datascience\n",
    "import ipywidgets as widgets\n",
    "from datascience import *\n",
    "import numpy as np\n",
    "from ipywidgets import interact, interactive, fixed, interact_manual\n",
    "import ipywidgets as widgets\n",
    "from IPython.display import display\n",
    "import pandas as pd\n",
    "%matplotlib inline \n",
    "import matplotlib.pyplot as plt\n",
    "plt.style.use('fivethirtyeight') "
   ]
  },
  {
   "cell_type": "markdown",
   "metadata": {
    "cell_id": "00003-3531a160-f88d-40ab-b7b7-39ebf1ba8789",
    "deepnote_cell_type": "markdown",
    "output_cleared": false,
    "tags": []
   },
   "source": [
    "Welcome to Data 88E: *Economics Models*! This class will explore the intersection of Data Science and Economics. \n",
    "Specifically, we will utilize methods and techniques in data science to examine both basic and upper-division Economics concepts.\n",
    "Throughout the course, we will consider a variety of economic problems both on the macro and micro level. \n",
    "\n",
    "In the first demo of the course, we hope to give you a sense of the types problems you can expect to explore this semester by considering a problem that may be of personal relevance to you: the post-graduate incomes of different majors at Cal.\n",
    "\n",
    "We will be using various visualization techniques to analyze the median incomes of different majors at UC Berkeley, in addition to the median incomes of those same majors at other colleges.\n",
    "If you forgot, the median income is the \"middle\" value: if you sorted all the individual incomes of a major in ascending order, the median would be the value that's exactly in the middle. The median is also called the 50th percentile -- at the median, exactly 50% of the individuals have an income lower than the median.\n",
    "\n",
    "Do not be concerned if you don't understand the code below: this entire exercise is purely a demo to motivate many profound concepts in Economics. \n",
    "If you're interested, you may choose to come back to this demo at the end of the course and consider all the different techniques utilized in it - it'd be a great way of reflecting upon how much you've learnt!\n"
   ]
  },
  {
   "cell_type": "markdown",
   "metadata": {
    "cell_id": "00003-000f93a0-edab-45fe-abd8-ad5451fc241c",
    "deepnote_cell_type": "markdown",
    "output_cleared": false,
    "tags": []
   },
   "source": [
    "## Data Collection\n",
    "\n",
    "Before we can use data science to tackle any issue, we must–well–obtain data (kind of mind-boggling, I know).\n",
    "Recall that we want to examine the median incomes of different majors at UC Berkeley as well as the median incomes of those same majors at other colleges.\n",
    "The term 'other colleges' is a fairly general one, and in this case we shall consider the average median incomes of those majors at alll other colleges in the United States.\n",
    "\n",
    "In order to obtain a dataset, you can either collect it yourself (via surveys, questionnaires, etc.) or you can use datasets that others have gathered for you.\n",
    "In this demo, we are combining 3 different datasets:\n",
    "- The median income for each major at Cal was obtained from [Cal's 2019 First Destination survey](https://career.berkeley.edu/survey/survey).\n",
    "- The median income for each major overall was obtained from surveys conducted by the American Community Survey (ACS) from 2010 to 2012, a very popular data source for Economics Research! In the survey, ACS essentially calls college graduates and asked them their income as well as what they majored in at college. (As a side note, FiveThirtyEight later published this [article](https://fivethirtyeight.com/features/the-economic-guide-to-picking-a-college-major/) using the results of the survey.) In this project, we will be using a modified version of the ACS survey - we will only be looking at the respondents who are 28 or younger. Can you think of why we would do this?\n",
    "- The longitudinal data on long-run outcomes of UC Berkeley alumni was obtained from the [University of California webpage](https://www.universityofcalifornia.edu/infocenter/berkeley-outcomes). We will use this dataset later for a slightly different analysis.\n",
    "\n",
    "Take a moment to consider the ways in which the 3 different datasets were created. \n",
    "Is it fair to draw direct comparisons between the datasets? What would be some potential issues and how could the differences in our datasets affect our analysis?\n",
    "\n",
    "\n",
    "### Mean vs Median\n",
    "Before proceeding further, it is important to consider why we are choosing to look at the median, and not the average, income.\n",
    "In order to answer this question, let us think about what the *distribution* of incomes for a population would look like. \n",
    "Most likely, you would see a high amount of incomes around or slightly below the mean, with a few massive outlier incomes above the mean.\n",
    "For example, consider a theatre major who becomes a star on Broadway - while they'd be doing absolutely fantastic in their career, they are not representative of the average theatre graduate from Berkeley and would likely pull the average income way up.\n",
    "For this reason, using the median is more *robust*: it gives us a better idea of what the typical graduate for any major can generally expect to earn.\n"
   ]
  },
  {
   "cell_type": "markdown",
   "metadata": {
    "cell_id": "00004-3a9d7442-c0a5-458a-8d2a-a7e9b4c26771",
    "deepnote_cell_type": "markdown",
    "output_cleared": false,
    "tags": []
   },
   "source": [
    "Now we'll load in all the data.\n",
    "Take a look at the tables for each dataset.\n",
    "Note that `P25th` referes to the 25th percentile of incomes (the income level at which exactly 25% of incomes are lower) and `P75th` refers to the 75th percentile of incomes (the income level at which exactly 75% of incomes are lower).\n",
    "You may not know what all the different columns in the tables mean. That's okay! \n",
    "As data scientists, we often encounter a lot of irrelevant data that we will discard later.\n"
   ]
  },
  {
   "cell_type": "code",
   "execution_count": null,
   "metadata": {},
   "outputs": [],
   "source": [
    "# Load in table of all majors' median incomes at Cal\n",
    "cal_income = Table.read_table(\"cal_income.csv\")\n",
    "cal_income.show(10) "
   ]
  },
  {
   "cell_type": "code",
   "execution_count": null,
   "metadata": {
    "cell_id": "00004-7edf510d-e12b-45df-99b0-40e1a6183863",
    "deepnote_cell_type": "code",
    "deepnote_to_be_reexecuted": false,
    "execution_millis": 11,
    "execution_start": 1609789748817,
    "output_cleared": false,
    "source_hash": "53643307",
    "tags": []
   },
   "outputs": [],
   "source": [
    "# Load in table of all other universities' average major median incomes\n",
    "other_income = Table.read_table(\"recent-grads.csv\") \n",
    "other_income.show(10)"
   ]
  },
  {
   "cell_type": "markdown",
   "metadata": {},
   "source": [
    "To make direct comparisons across majors, we combined all the tables above into a single one for us to use below."
   ]
  },
  {
   "cell_type": "code",
   "execution_count": null,
   "metadata": {
    "cell_id": "00007-a8f267ed-bdd4-4ab7-b33b-83e505afab4b",
    "deepnote_cell_type": "code",
    "deepnote_to_be_reexecuted": false,
    "execution_millis": 8,
    "execution_start": 1609789748841,
    "output_cleared": false,
    "source_hash": "cca5319c",
    "tags": []
   },
   "outputs": [],
   "source": [
    "majors = Table.read_table(\"cal_vs_all.csv\")\n",
    "majors.show(10)"
   ]
  },
  {
   "cell_type": "markdown",
   "metadata": {
    "cell_id": "00008-bdf97614-4c1b-49c7-b995-86c75081d349",
    "deepnote_cell_type": "markdown",
    "output_cleared": false,
    "tags": []
   },
   "source": [
    "Our combined table above dropped the columns in above tables that we didn't need to conduct our exploration. \n",
    "It has a column `Median Income Difference`: this column is the Berkeley median income minus the overall median income for each major. \n",
    "It gives us a sense of the value of Cal over the average university: the difference is the additional income we recieve from obtaining a Cal degree.\n",
    "\n",
    "Before moving forward, take a second to consider how well the above tables would match with each other.\n",
    "For example, Electrical Engineering and Computer Science (EECS) is a popular major at Berkeley. However, the `majors` dataset didn't have a direct equivalent for it.\n",
    "Instead, the `majors` dataset had Electrical Engineering, Electrical Engineering Technologies and Computer Engineering as separate majors. \n",
    "Since in theory students in EECS focus more on computer engineering, we chose to use the computer engineering data for drawing comparions in our final, combined table.\n",
    "However, there's room for ambiguity here and that is another potential flaw in our exploration!\n",
    "\n",
    "The interactive widgets below allows you to select majors to compare them. Play around with this for a bit; what do you observe?"
   ]
  },
  {
   "cell_type": "code",
   "execution_count": null,
   "metadata": {},
   "outputs": [],
   "source": [
    "def display_major_table(major):\n",
    "    selected = majors.where(\"Major\", are.contained_in(major))\n",
    "    selected.show()\n",
    "    \n",
    "    ind = np.arange(selected.num_rows) \n",
    "    width = 0.35\n",
    "\n",
    "    fig, ax = plt.subplots()\n",
    "    rects1 = ax.bar(ind - width/2, selected.column(\"Cal Median\"), width,\n",
    "                    label='Cal Median', color = \"navy\")\n",
    "    rects2 = ax.bar(ind + width/2, selected.column(\"Overall Median\"), width,\n",
    "                    label='Overall Median', color = \"goldenrod\")\n",
    "    \n",
    "    ax.set_ylabel('Income')\n",
    "    ax.set_xticks(ind)\n",
    "    ax.set_xticklabels(selected.column(\"Major\"))\n",
    "    ax.set_title(\"Median Incomes for Selected Majors at Cal (Blue) and Other Universities (Gold)\", fontsize= 13)\n",
    "    plt.xticks(rotation=90)\n",
    "\n",
    "\n",
    "dropdown_majors = widgets.SelectMultiple(\n",
    "    options=majors.column(\"Major\"),\n",
    "    description=\"Major\",\n",
    "    disabled=False\n",
    ")\n",
    "display(widgets.interactive(display_major_table, major=dropdown_majors))\n"
   ]
  },
  {
   "cell_type": "markdown",
   "metadata": {
    "cell_id": "00008-588e516c-5d17-435b-b656-12a24da58e35",
    "deepnote_cell_type": "markdown",
    "output_cleared": false,
    "tags": []
   },
   "source": [
    "## The most lucrative major\n",
    "\n",
    "Let's imagine that Belfort is a freshman at Berkeley. \n",
    "Belfort is a very unique individual - he is someone who would be equally good at all majors and enjoys all majors equally.\n",
    "He also believes that money is the most important thing in the world.\n",
    "These assumptions are vastly oversimplifcations and not the case for anyone in real life; but in Economics you'll find that we end up making significant simplifications to abstract away all the potential complications!\n",
    "\n",
    "Since Belfort is equally good at and happy with all majors at Cal, the major he chooses is purely dependent on how much money he can earn after college with that major.\n",
    "Therefore, he will choose the major with the highest median income.\n",
    "\n",
    "Let us sort our table by the `Cal Median` column in descending order to see which major that would be. \n"
   ]
  },
  {
   "cell_type": "code",
   "execution_count": null,
   "metadata": {
    "cell_id": "00009-7b723716-aa30-47dd-a131-a5d9daa5d399",
    "deepnote_cell_type": "code",
    "deepnote_to_be_reexecuted": false,
    "execution_millis": 14,
    "execution_start": 1609789748851,
    "output_cleared": false,
    "source_hash": "764f2154",
    "tags": []
   },
   "outputs": [],
   "source": [
    "majors.sort('Cal Median',descending=True).show(10)"
   ]
  },
  {
   "cell_type": "markdown",
   "metadata": {
    "cell_id": "00010-6d6cb98c-b88f-4e1d-8acf-734f7cfbdd68",
    "deepnote_cell_type": "markdown",
    "output_cleared": false,
    "tags": []
   },
   "source": [
    "However, what if instead of just wanting the maximum amount of cash after college, Belfort was super proud of getting into Berkeley and instead wanted to maximise the amount of additional benefit he recieves from attending Berkeley over other universities?\n",
    "Let's sort our table by the `Median Income Difference` column in descending order to see which major would give Belfort the highest additional income from going to Berkeley.  \n",
    "\n",
    "Do any values in either of our sorted table surprise you? Why might that be?\n"
   ]
  },
  {
   "cell_type": "code",
   "execution_count": null,
   "metadata": {
    "cell_id": "00011-165f6ba2-be42-46fb-af11-884f85633a47",
    "deepnote_cell_type": "code",
    "deepnote_to_be_reexecuted": false,
    "execution_millis": 0,
    "execution_start": 1609789748865,
    "output_cleared": false,
    "source_hash": "bef44fba",
    "tags": []
   },
   "outputs": [],
   "source": [
    "majors.sort(\"Median Income Difference\",descending=True).show(10)"
   ]
  },
  {
   "cell_type": "markdown",
   "metadata": {
    "cell_id": "00014-5ba44964-64f8-4e20-b03d-6ce988e3fa34",
    "deepnote_cell_type": "markdown",
    "output_cleared": false,
    "tags": []
   },
   "source": [
    "Let's now do the opposite and sort our table by the `Median Income Difference` column in ascending order.\n"
   ]
  },
  {
   "cell_type": "code",
   "execution_count": null,
   "metadata": {
    "cell_id": "00015-17e6211c-572c-4e27-8cf5-c9ffbb467016",
    "deepnote_cell_type": "code",
    "deepnote_to_be_reexecuted": false,
    "execution_millis": 2,
    "execution_start": 1609789748866,
    "output_cleared": false,
    "source_hash": "cc8da183",
    "tags": []
   },
   "outputs": [],
   "source": [
    "majors.sort(\"Median Income Difference\").show(10)"
   ]
  },
  {
   "cell_type": "markdown",
   "metadata": {
    "cell_id": "00016-7b115091-fcb4-4a92-83e6-4b3e23e3085d",
    "deepnote_cell_type": "markdown",
    "output_cleared": false,
    "tags": []
   },
   "source": [
    "As you can see in the table, the median income difference for both nuclear engineering and astrophysics is negative. \n",
    "This is rather peculiar, especially since Cal has great programs for both those majors.\n",
    "Why would Cal graduates earn less income than the graduates of the average college for those 2 majors? \n",
    "\n",
    "*Hint*: consider what each of our datasets describes. Is it an apples-to-apples comparison?\n"
   ]
  },
  {
   "cell_type": "markdown",
   "metadata": {
    "cell_id": "00017-e44978d3-40a5-4f69-9f23-924108662706",
    "deepnote_cell_type": "markdown",
    "output_cleared": false,
    "tags": []
   },
   "source": [
    "The answer is because the dataset with the median incomes for all colleges actually described recent graduates (people who are 28 and younger, rather than just fresh college graduates.\n",
    "It is likely that most people who graduate with Nuclear Engineering and Astrophysics degrees in other colleges tend to stay in the industry for their fields and keep accumulating experience. This would explain why a dataset that includes data from 28 year olds would have a higher median income than fresh Cal graduates in the same field."
   ]
  },
  {
   "cell_type": "markdown",
   "metadata": {},
   "source": [
    "### Generalization and Causal Inference\n",
    "\n",
    "While Belfort would be equally good at and enjoy all majors equally, the implications for him may not generalize for anyone else. \n",
    "\n",
    "If you decide to major in EECS, it does not mean that you will have more income post-grad than that from majoring in anything else. For example, someone who is a fantastic artist but not very good at computer science would probably make far more money majoring in art than in EECS. In addition, just because EECS has the highest median income overall doesn't mean that any individual is guaranteed a high median income if they decide to major in EECS. Overall, our results are not completely *generalizable* to others.\n",
    "\n",
    "The causal effect of majoring in EECS on incomes may also be overstated. Consider the fact that those who major in EECS tend to come from families whose parents are already in working in tech. As a result, these students will likely also find better jobs post-grad. This is what we call a confounding variable -- it is positively correlated with our treatment variable of majoring in EECS. If we do not observe this confounding factor, our analysis would likely overstate the effect of an EECS degree on post-grad incomes."
   ]
  },
  {
   "cell_type": "markdown",
   "metadata": {},
   "source": [
    "### A brief discourse on utility \n",
    "\n",
    "From seeing our results, you may be wondering: *why doesn't everyone just major in EECS then*? \n",
    "\n",
    "For Belfort, money is the only thing in the world that derives happiness. \n",
    "However, this is once again an oversimplication for the vast majority of people in the real world.\n",
    "People derive utility from sources other than just their bank account; often, we choose relatively lower-paying jobs in order to derive more happiness in our lives.\n",
    "\n",
    "**Utility** is a measure of 'satisfaction' or 'happiness' when we consume a good, while **disutility** is a measure of 'unsatisfaction' or 'harm' when we consume a *bad*. In economics, one assumption we will always make is that people will always seek to maximize their utility and minimize their disutility. \n",
    "\n",
    "However, we encounter *diminishing marginal utility* as we consume more and more of a good. For example, the utility of the first cookie you eat is likely much higher than the 20th cookie you eat. Similarly, we may encounter *increasing marginal disutility* as we consume more and more of a bad. For example, the disutility of the first hour doing something you dread is probably not as bad as the 10th hour of doing something you dread.\n",
    "\n",
    "For many of us, money provides a source of utility, while working or the studying required to get there may provide a source of disutility. This presents a tradeoff: for some, the disutility from studying EECS or working as a programmer greatly outweights the utility from the money. Perhaps another job in a different field requires significantly lower disutility to achieve, without much impact on the utility of the income associated with it. This phenomenon would explain why not everyone decides to major in EECS!\n"
   ]
  },
  {
   "cell_type": "markdown",
   "metadata": {
    "cell_id": "00033-75464a69-7a91-4be8-b25a-e8b13c341cd6",
    "deepnote_cell_type": "markdown",
    "tags": []
   },
   "source": [
    "## Incomes Over Time: Computer Science vs Economics \n",
    "\n",
    "So far our exploration of the data has considered a rather general timeframe of \"post graduation\", but perhaps it would be more insightful if we dove in and took a look at how incomes differed across various ages. We can do so using the table below that consists of data collected by the [UC ClioMetric History Project](http://uccliometric.org/). \n",
    "By compiling a database of digital student transcripts of all UC undergraduates and then linking California wages to individuals in the transcript database, \n",
    "they were able to produce comprehensive dashboards that visualize demographics, major choices, and long-run incomes of each UC campus’s alumni over the past 70 years. \n",
    "\n",
    "\n",
    "You can learn more about how they collected the data [here](https://www.universityofcalifornia.edu/infocenter/long-run-methodology), but for now we will just focus on a snapshot of the data. \n",
    "In particular, we are interested in exploring how percentile incomes compare between Cal alumni who majored in computer science versus those who majored in economics. Run the following cell to check it out.  \n"
   ]
  },
  {
   "cell_type": "code",
   "execution_count": null,
   "metadata": {
    "cell_id": "00037-bcfed8e5-b101-4183-b13e-1f67187862db",
    "deepnote_cell_type": "code",
    "deepnote_to_be_reexecuted": false,
    "execution_millis": 8,
    "execution_start": 1609789748871,
    "source_hash": "1a059ace",
    "tags": []
   },
   "outputs": [],
   "source": [
    "cs_vs_econ=Table.read_table(\"cs_econ_by_age.csv\")\n",
    "cs_vs_econ.show(10)"
   ]
  },
  {
   "cell_type": "markdown",
   "metadata": {
    "cell_id": "00035-8fec8492-10b1-4b6e-a854-987256fa75ad",
    "deepnote_cell_type": "markdown",
    "tags": []
   },
   "source": [
    "Here we have a table where each row corresponds to a certain age. \n",
    "It begins with age 23 (typically how old people are when getting their first job out of college), and goes up until age 62 (when people retire from the workforce). \n",
    "\n",
    "Let's graph our data using some line plots: line plots are especially useful when trying to visualize trends that change over time. \n",
    "\n",
    "Run the following cell to visualize the data. The yellow lines correspond to CS incomes, while the blue lines correspond to Econ incomes. "
   ]
  },
  {
   "cell_type": "code",
   "execution_count": null,
   "metadata": {
    "cell_id": "00034-ae6846fc-89cf-43ce-a098-2bb5b640efa6",
    "deepnote_cell_type": "code",
    "deepnote_to_be_reexecuted": false,
    "execution_millis": 274,
    "execution_start": 1609794461394,
    "output_cleared": false,
    "source_hash": "cb7a099d",
    "tags": []
   },
   "outputs": [],
   "source": [
    "df = cs_vs_econ.to_df()\n",
    "df.plot(\"Age\",color=[\"goldenrod\",\"gold\",\"yellow\",\"khaki\",\"navy\",\"mediumblue\",\"royalblue\",\"cornflowerblue\"])\n",
    "plt.ylabel(\"Annual Income in Dollars\")\n",
    "plt.title(\"Comparing Incomes of Computer Science Majors vs Economics Majors\");\n",
    "fig = plt.gcf()\n",
    "fig.set_size_inches(15, 11)"
   ]
  },
  {
   "cell_type": "markdown",
   "metadata": {
    "cell_id": "00041-d31a49eb-ac8d-4de5-99a3-6ee7303ae2a5",
    "deepnote_cell_type": "markdown",
    "tags": []
   },
   "source": [
    "Let's take a look at how the incomes compare at each percentile. The most notable trend is probably the fact that for the most the part, CS majors typically make more money than Econ majors.\n",
    "We especially observe this trend in the 25th and 50th percentiles, and this follows accordingly with our exploration earlier in the notebook that students who majored in L&S Computer Science on average had a higher median income than pretty much every other major. "
   ]
  },
  {
   "cell_type": "markdown",
   "metadata": {
    "cell_id": "00028-e556523d-9165-4ecb-acfd-da693c4987f6",
    "deepnote_cell_type": "markdown",
    "tags": []
   },
   "source": [
    "The graph above helps explain why CS is one of the most popular majors here at Berkeley. \n",
    "Software engineering and related disciplines have a huge demand for fresh talent, so that individuals entering these fields are duly compensated. This in and of itself is a big appeal of students wanting to major in computer science. \n",
    "\n",
    "Right off the bat out of college, fresh CS graduates are looking at a six figure income: even the 25th percentile of CS majors are making over $103,000 by the time they are 25. At any given percentile level, CS graduates outearn their Economics counterparts immediately post-graduation.\n"
   ]
  },
  {
   "cell_type": "markdown",
   "metadata": {},
   "source": [
    "### Intertemporal Effects\n",
    "\n",
    "However, we don't just choose our majors based off of the immediate post-graduation income. Intuitively, we would want to maximize our total lifetime income we make. This idea is called *intertermporal utility maximization*: Economists often take into account one's utility across all possible time periods.\n",
    "\n",
    "Considering lifetime income, which major would be better? Well, it depends: if you are at the bottom 25th or 50th percentile, CS is better. This suggests that the typical Economics major will likely never outearn the the typical CS major.\n",
    "\n",
    "However, we observe that Economics majors at higher percentiles ultimately overtake CS majors in earnings. Intuitively, this should make sense. Perhaps top Economics majors are more likely to become successful executives later on in their careers while make more money than top CS majors, who continue to stay as software engineers or become engineering managers. "
   ]
  },
  {
   "cell_type": "markdown",
   "metadata": {
    "cell_id": "00029-ae2d6717-0d36-4ffe-a3bc-c854df0f76d3",
    "deepnote_cell_type": "markdown",
    "tags": []
   },
   "source": [
    "### Risk\n",
    "We observe that Economics majors have a much larger spread in their lifetime earnings than CS majors: top Economics graduates make significantly more than bottom Economics graduates, compared to top CS and bottom CS graduates.\n",
    "\n",
    "This brings to the light the notion of risk. Majoring in CS carries relatively lower variance: whether you are \n",
    "a top notch developer in the 75th percentile or a subpar developer in the 25th percentile, you will probably make a solid living. Since most CS majors typically end up pursuing similar careers in the realms of software development, there is less **variance** in the occupations. There is also less **risk**: most CS majors can expect to land a software engineering job and continue working as one twenty years into their career.\n",
    "\n",
    "The same story is less true for Economics majors: a top-notch Economics major will significantly out-earn a subpar Economics major. This is partly due to the vastly differing occupation types Economics majors become: analysts, bankers, consultants, just to name a few (Economics is a very versatile degree, afterall). Twenty years down the line, the top Economics majors will have higher ceilings perhaps with a lot of opportunity for leadership or executive positions. There is a lot more **variance** in the types of jobs and thus salaries that Economics majors will attain. In addition, there is a lot more **risk**: not every Economics major will become a top executive, and most end up with more 'average' jobs that earn less than that of similar percentile CS majors.\n",
    "\n",
    "This means that if you know you are at the top regardless of your major, you will tend to ultimately earn more income as an Economics major than a CS major. But a caveat: it's impossible to guarantee that you will be in the top, no matter how hard you work. Often, life has uncertainties and involves a great deal of luck to become successful."
   ]
  },
  {
   "cell_type": "markdown",
   "metadata": {
    "cell_id": "00043-d8d497e2-32ab-4ca3-a9ac-28ba3ad57ecb",
    "deepnote_cell_type": "markdown",
    "tags": []
   },
   "source": [
    "The table and graph above only considered the percentile incomes of CS and Economics majors, but if you're interested in drawing more comparisons, check out [this page](https://www.universityofcalifornia.edu/infocenter/berkeley-outcomes). You can compare between all types of popular majors at UC Berkeley, and even toggle around with more features like gender, ethnicity, or even specific courses."
   ]
  },
  {
   "cell_type": "markdown",
   "metadata": {},
   "source": [
    "## An Afterword\n",
    "\n",
    "In this demo, we've covered a series of fundamental Economics ideas such as income, utility, and risk. We've also gone over a series of more statistical concepts that are also at the heart of empirical Economics such as causal inference, generalization, and unobserved variables. We did this all using data science techniques and visualizations, while being cognizant of potential sources of error. We will be revisiting a lot of these themes in later parts of the course.\n",
    "\n",
    "From this exercise you may have noticed that pursuing either Economics, Data Science, or both are great options in terms of post-graduation incomes. This means you've probably chosen wisely to have ended up in this class. \n",
    "\n",
    "Welcome to Data 88E! "
   ]
  },
  {
   "cell_type": "code",
   "execution_count": null,
   "metadata": {},
   "outputs": [],
   "source": []
  }
 ],
 "metadata": {
  "deepnote_execution_queue": [],
  "deepnote_notebook_id": "3493a562-55cc-46a4-9f93-2b9063266d21",
  "kernelspec": {
   "display_name": "Python 3",
   "language": "python",
   "name": "python3"
  },
  "language_info": {
   "codemirror_mode": {
    "name": "ipython",
    "version": 3
   },
   "file_extension": ".py",
   "mimetype": "text/x-python",
   "name": "python",
   "nbconvert_exporter": "python",
   "pygments_lexer": "ipython3",
   "version": "3.8.15"
  }
 },
 "nbformat": 4,
 "nbformat_minor": 4
}
